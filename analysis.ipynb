{
 "cells": [
  {
   "cell_type": "markdown",
   "metadata": {},
   "source": [
    "# Metrics"
   ]
  },
  {
   "cell_type": "code",
   "execution_count": 1,
   "metadata": {
    "collapsed": true
   },
   "outputs": [],
   "source": [
    "import numpy as np\n",
    "import tensorflow as tf\n",
    "import pandas as pd\n",
    "from sklearn.metrics import roc_auc_score, average_precision_score\n",
    "tf.enable_eager_execution()"
   ]
  },
  {
   "cell_type": "code",
   "execution_count": 2,
   "metadata": {
    "collapsed": true
   },
   "outputs": [],
   "source": [
    "# later get labels from pd.DataFrame\n",
    "\n",
    "labels = pd.read_csv('data/only_treatments/eval.csv')['target'].values"
   ]
  },
  {
   "cell_type": "code",
   "execution_count": 4,
   "metadata": {},
   "outputs": [
    {
     "name": "stdout",
     "output_type": "stream",
     "text": [
      "ROC AUC = 0.8679138613772217\n",
      "Aver PR = 0.1557966599788406\n"
     ]
    }
   ],
   "source": [
    "# SWEM MAX\n",
    "\n",
    "logits = np.load('experiments/only_treatments_max/eval_logits.npy')\n",
    "\n",
    "preds = tf.nn.softmax(logits).numpy()\n",
    "\n",
    "print('ROC AUC =', roc_auc_score(labels, preds[:,1]))\n",
    "\n",
    "print('Aver PR =', average_precision_score(labels, preds[:, 1]))"
   ]
  },
  {
   "cell_type": "code",
   "execution_count": 5,
   "metadata": {},
   "outputs": [
    {
     "name": "stdout",
     "output_type": "stream",
     "text": [
      "ROC AUC = 0.8532301213600377\n",
      "Aver PR = 0.14250382671421116\n"
     ]
    }
   ],
   "source": [
    "# SWEM AVER\n",
    "\n",
    "logits = np.load('experiments/only_treatments_aver/eval_logits.npy')\n",
    "\n",
    "preds = tf.nn.softmax(logits).numpy()\n",
    "\n",
    "print('ROC AUC =', roc_auc_score(labels, preds[:,1]))\n",
    "\n",
    "print('Aver PR =', average_precision_score(labels, preds[:, 1]))"
   ]
  },
  {
   "cell_type": "code",
   "execution_count": null,
   "metadata": {
    "collapsed": true
   },
   "outputs": [],
   "source": []
  },
  {
   "cell_type": "code",
   "execution_count": null,
   "metadata": {
    "collapsed": true
   },
   "outputs": [],
   "source": []
  },
  {
   "cell_type": "code",
   "execution_count": null,
   "metadata": {
    "collapsed": true
   },
   "outputs": [],
   "source": []
  },
  {
   "cell_type": "code",
   "execution_count": null,
   "metadata": {
    "collapsed": true
   },
   "outputs": [],
   "source": []
  },
  {
   "cell_type": "markdown",
   "metadata": {},
   "source": [
    "## input_fn test"
   ]
  },
  {
   "cell_type": "code",
   "execution_count": null,
   "metadata": {
    "collapsed": true
   },
   "outputs": [],
   "source": [
    "import tensorflow as tf\n",
    "import numpy as np\n",
    "from model.input_fn import input_fn\n",
    "\n",
    "params = {\n",
    "    'batch_size': 2048,\n",
    "    'num_epochs': 5,\n",
    "    'seq_len': 20,\n",
    "    'learning_rate': 0.001,\n",
    "    'train_size': 3000000,\n",
    "    'treatments_vocab_path': 'data/treatments.txt'\n",
    "}\n",
    "\n",
    "dataset = input_fn('data/eval.tfrecords', params, train_time=False)\n",
    "\n",
    "iterator = dataset.make_initializable_iterator()\n",
    "\n",
    "init = iterator.initializer\n",
    "\n",
    "batch = iterator.get_next()\n",
    "\n",
    "labels = []"
   ]
  },
  {
   "cell_type": "code",
   "execution_count": null,
   "metadata": {
    "collapsed": true
   },
   "outputs": [],
   "source": [
    "with tf.Session() as ss:\n",
    "    ss.run(tf.tables_initializer())\n",
    "    ss.run(init)\n",
    "    for _ in range(10**6):\n",
    "        try:\n",
    "            next_batch = ss.run(batch)\n",
    "            labels.extend(next_batch[1].tolist())\n",
    "        except tf.errors.OutOfRangeError:\n",
    "            break\n",
    "        # print('Number of 1s =', next_batch[1].sum())"
   ]
  },
  {
   "cell_type": "code",
   "execution_count": null,
   "metadata": {
    "collapsed": true
   },
   "outputs": [],
   "source": []
  }
 ],
 "metadata": {
  "kernelspec": {
   "display_name": "Python 3",
   "language": "python",
   "name": "python3"
  },
  "language_info": {
   "codemirror_mode": {
    "name": "ipython",
    "version": 3
   },
   "file_extension": ".py",
   "mimetype": "text/x-python",
   "name": "python",
   "nbconvert_exporter": "python",
   "pygments_lexer": "ipython3",
   "version": "3.6.6"
  }
 },
 "nbformat": 4,
 "nbformat_minor": 2
}
